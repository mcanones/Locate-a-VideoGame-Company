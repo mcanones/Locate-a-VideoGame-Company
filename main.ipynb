{
 "cells": [
  {
   "cell_type": "markdown",
   "metadata": {},
   "source": [
    "## Import libraries"
   ]
  },
  {
   "cell_type": "code",
   "execution_count": 1,
   "metadata": {},
   "outputs": [],
   "source": [
    "import pandas as pd\n",
    "from pymongo import MongoClient\n",
    "from src.GeoQueryMongo import *\n",
    "from src.geocode import *\n",
    "from src.calcDist import * \n",
    "import os\n",
    "from dotenv import load_dotenv\n",
    "import requests"
   ]
  },
  {
   "cell_type": "markdown",
   "metadata": {},
   "source": [
    "## Connect with MongoDB"
   ]
  },
  {
   "cell_type": "markdown",
   "metadata": {},
   "source": [
    "As expained in the `README.md` before running `main.ipynb` you should run first the following python files in folder `scripts` in this order:\n",
    "\n",
    "- Run `offices_processed.py` --> Obtain `companies_processed.json` \n",
    "- Run `offices_mining.py` --> Obtain `companies_mining.json`       \n",
    "- Run `offices_filtered.py` --> Obtain `companies_selected.json`  \n",
    "\n",
    "Once you load `companies_selected.json` in MongoDB run the following instruction: \n",
    "\n",
    "**`mongoimport --db companies --collection companies_selected --file companies_selected.json --jsonArray`**"
   ]
  },
  {
   "cell_type": "code",
   "execution_count": 2,
   "metadata": {},
   "outputs": [],
   "source": [
    "client = MongoClient(f\"mongodb://localhost/companies\")\n",
    "db = client.get_database()\n",
    "data = list(db.companies_selected.find({}))\n",
    "df=pd.DataFrame(data)"
   ]
  },
  {
   "cell_type": "code",
   "execution_count": 3,
   "metadata": {},
   "outputs": [
    {
     "data": {
      "text/html": [
       "<div>\n",
       "<style scoped>\n",
       "    .dataframe tbody tr th:only-of-type {\n",
       "        vertical-align: middle;\n",
       "    }\n",
       "\n",
       "    .dataframe tbody tr th {\n",
       "        vertical-align: top;\n",
       "    }\n",
       "\n",
       "    .dataframe thead th {\n",
       "        text-align: right;\n",
       "    }\n",
       "</style>\n",
       "<table border=\"1\" class=\"dataframe\">\n",
       "  <thead>\n",
       "    <tr style=\"text-align: right;\">\n",
       "      <th></th>\n",
       "      <th>_id</th>\n",
       "      <th>name</th>\n",
       "      <th>category_code</th>\n",
       "      <th>office</th>\n",
       "      <th>clean_state</th>\n",
       "      <th>latitude</th>\n",
       "      <th>longitude</th>\n",
       "      <th>Starbucks</th>\n",
       "      <th>Starbucks_state</th>\n",
       "      <th>lat_s</th>\n",
       "      <th>...</th>\n",
       "      <th>lat_p</th>\n",
       "      <th>lng_p</th>\n",
       "      <th>Disco</th>\n",
       "      <th>Disco_state</th>\n",
       "      <th>lat_d</th>\n",
       "      <th>lng_d</th>\n",
       "      <th>Airport</th>\n",
       "      <th>Airport_state</th>\n",
       "      <th>lat_a</th>\n",
       "      <th>lng_a</th>\n",
       "    </tr>\n",
       "  </thead>\n",
       "  <tbody>\n",
       "    <tr>\n",
       "      <th>0</th>\n",
       "      <td>5e9c7638d07dd4923741d833</td>\n",
       "      <td>Kyte</td>\n",
       "      <td>games_video</td>\n",
       "      <td>{'type': 'Point', 'coordinates': [-122.409173,...</td>\n",
       "      <td>success</td>\n",
       "      <td>37.788482</td>\n",
       "      <td>-122.409173</td>\n",
       "      <td>{'type': 'Point', 'coordinates': [-122.4042684...</td>\n",
       "      <td>success</td>\n",
       "      <td>37.792814</td>\n",
       "      <td>...</td>\n",
       "      <td>37.792992</td>\n",
       "      <td>-122.407870</td>\n",
       "      <td>{'type': 'Point', 'coordinates': [-122.4102387...</td>\n",
       "      <td>success</td>\n",
       "      <td>37.791749</td>\n",
       "      <td>-122.410239</td>\n",
       "      <td>{'type': 'Point', 'coordinates': [-122.3789554...</td>\n",
       "      <td>success</td>\n",
       "      <td>37.621313</td>\n",
       "      <td>-122.378955</td>\n",
       "    </tr>\n",
       "    <tr>\n",
       "      <th>1</th>\n",
       "      <td>5e9c7638d07dd4923741d834</td>\n",
       "      <td>Babelgum</td>\n",
       "      <td>games_video</td>\n",
       "      <td>{'type': 'Point', 'coordinates': [-6.267494, 5...</td>\n",
       "      <td>success</td>\n",
       "      <td>53.344104</td>\n",
       "      <td>-6.267494</td>\n",
       "      <td>{'type': 'Point', 'coordinates': [-6.2612559, ...</td>\n",
       "      <td>success</td>\n",
       "      <td>53.344475</td>\n",
       "      <td>...</td>\n",
       "      <td>53.347773</td>\n",
       "      <td>-6.258879</td>\n",
       "      <td>{'type': 'Point', 'coordinates': [-6.2675772, ...</td>\n",
       "      <td>success</td>\n",
       "      <td>53.344807</td>\n",
       "      <td>-6.267577</td>\n",
       "      <td>{'type': 'Point', 'coordinates': [-6.2499098, ...</td>\n",
       "      <td>success</td>\n",
       "      <td>53.426448</td>\n",
       "      <td>-6.249910</td>\n",
       "    </tr>\n",
       "    <tr>\n",
       "      <th>2</th>\n",
       "      <td>5e9c7638d07dd4923741d835</td>\n",
       "      <td>Livestream</td>\n",
       "      <td>games_video</td>\n",
       "      <td>{'type': 'Point', 'coordinates': [-73.995625, ...</td>\n",
       "      <td>success</td>\n",
       "      <td>40.726155</td>\n",
       "      <td>-73.995625</td>\n",
       "      <td>{'type': 'Point', 'coordinates': [-73.995485, ...</td>\n",
       "      <td>success</td>\n",
       "      <td>40.727212</td>\n",
       "      <td>...</td>\n",
       "      <td>40.728831</td>\n",
       "      <td>-73.999507</td>\n",
       "      <td>{'type': 'Point', 'coordinates': [-73.9914785,...</td>\n",
       "      <td>success</td>\n",
       "      <td>40.726018</td>\n",
       "      <td>-73.991478</td>\n",
       "      <td>{'type': 'Point', 'coordinates': [-73.8739659,...</td>\n",
       "      <td>success</td>\n",
       "      <td>40.776927</td>\n",
       "      <td>-73.873966</td>\n",
       "    </tr>\n",
       "  </tbody>\n",
       "</table>\n",
       "<p>3 rows × 23 columns</p>\n",
       "</div>"
      ],
      "text/plain": [
       "                        _id        name category_code  \\\n",
       "0  5e9c7638d07dd4923741d833        Kyte   games_video   \n",
       "1  5e9c7638d07dd4923741d834    Babelgum   games_video   \n",
       "2  5e9c7638d07dd4923741d835  Livestream   games_video   \n",
       "\n",
       "                                              office clean_state   latitude  \\\n",
       "0  {'type': 'Point', 'coordinates': [-122.409173,...     success  37.788482   \n",
       "1  {'type': 'Point', 'coordinates': [-6.267494, 5...     success  53.344104   \n",
       "2  {'type': 'Point', 'coordinates': [-73.995625, ...     success  40.726155   \n",
       "\n",
       "    longitude                                          Starbucks  \\\n",
       "0 -122.409173  {'type': 'Point', 'coordinates': [-122.4042684...   \n",
       "1   -6.267494  {'type': 'Point', 'coordinates': [-6.2612559, ...   \n",
       "2  -73.995625  {'type': 'Point', 'coordinates': [-73.995485, ...   \n",
       "\n",
       "  Starbucks_state      lat_s  ...      lat_p       lng_p  \\\n",
       "0         success  37.792814  ...  37.792992 -122.407870   \n",
       "1         success  53.344475  ...  53.347773   -6.258879   \n",
       "2         success  40.727212  ...  40.728831  -73.999507   \n",
       "\n",
       "                                               Disco  Disco_state      lat_d  \\\n",
       "0  {'type': 'Point', 'coordinates': [-122.4102387...      success  37.791749   \n",
       "1  {'type': 'Point', 'coordinates': [-6.2675772, ...      success  53.344807   \n",
       "2  {'type': 'Point', 'coordinates': [-73.9914785,...      success  40.726018   \n",
       "\n",
       "        lng_d                                            Airport  \\\n",
       "0 -122.410239  {'type': 'Point', 'coordinates': [-122.3789554...   \n",
       "1   -6.267577  {'type': 'Point', 'coordinates': [-6.2499098, ...   \n",
       "2  -73.991478  {'type': 'Point', 'coordinates': [-73.8739659,...   \n",
       "\n",
       "   Airport_state      lat_a       lng_a  \n",
       "0        success  37.621313 -122.378955  \n",
       "1        success  53.426448   -6.249910  \n",
       "2        success  40.776927  -73.873966  \n",
       "\n",
       "[3 rows x 23 columns]"
      ]
     },
     "execution_count": 3,
     "metadata": {},
     "output_type": "execute_result"
    }
   ],
   "source": [
    "df.head(3)"
   ]
  },
  {
   "cell_type": "markdown",
   "metadata": {},
   "source": [
    "## Prepare dataset for Tableau"
   ]
  },
  {
   "cell_type": "markdown",
   "metadata": {},
   "source": [
    "After trying different visualization options with Tableau (dual axis, joints...) for the dataframe `df`, the simplest way to make the representation seemed to be with a single dataset of 3 columns **latitude**, **longitude** and **names**. The cell below generates such simplified dataset."
   ]
  },
  {
   "cell_type": "code",
   "execution_count": 4,
   "metadata": {},
   "outputs": [],
   "source": [
    "#Create subset and rename columns\n",
    "df_airport=df[['lat_a','lng_a','name']]\n",
    "df_airport.columns=[['latitude','longitude','name']]\n",
    "df_discos=df[['lat_d','lng_d','name']]\n",
    "df_discos.columns=[['latitude','longitude','name']]\n",
    "df_preschool=df[['lat_p','lng_p','name']]\n",
    "df_preschool.columns=[['latitude','longitude','name']]\n",
    "df_starbucks=df[['lat_s','lng_s','name']]\n",
    "df_starbucks.columns=[['latitude','longitude','name']]\n",
    "df_companies=df[['latitude','longitude','name']]\n",
    "df_companies.columns=[['latitude','longitude','name']]"
   ]
  },
  {
   "cell_type": "code",
   "execution_count": 5,
   "metadata": {},
   "outputs": [],
   "source": [
    "#Concatenate\n",
    "objs=[df_companies, df_airport, df_discos, df_preschool, df_starbucks]\n",
    "df_tableau = pd.concat(objs, axis=0)\n",
    "df_tableau.reset_index(drop=True, inplace=True)"
   ]
  },
  {
   "cell_type": "code",
   "execution_count": 6,
   "metadata": {},
   "outputs": [],
   "source": [
    "#Save in the output folder\n",
    "df_tableau.to_json(\"./output/df_tableau.json\",orient=\"records\")"
   ]
  },
  {
   "cell_type": "markdown",
   "metadata": {},
   "source": [
    "## Obtain map in Tableau"
   ]
  },
  {
   "cell_type": "markdown",
   "metadata": {},
   "source": [
    "A file from Tablau is provided in the `output` folder: `GeoSpatial Data Project.twbx`. You can open this file with tableau and explore yourself the possible locations for the company worldwide."
   ]
  },
  {
   "cell_type": "markdown",
   "metadata": {},
   "source": [
    "<img src=\"output/Tableau_interface.png\">"
   ]
  },
  {
   "cell_type": "markdown",
   "metadata": {},
   "source": [
    "As you can see there are groups of 4 points in the same color. They are catherogized by the name of the `company`. If you zoom in tableau you will se that below the pont there is a Starbucks, Night Club, etc. An example is provided below:"
   ]
  },
  {
   "cell_type": "markdown",
   "metadata": {},
   "source": [
    "<img src=\"output/Tableau_interface_2.png\">"
   ]
  },
  {
   "cell_type": "markdown",
   "metadata": {},
   "source": [
    "## Solution"
   ]
  },
  {
   "cell_type": "code",
   "execution_count": 7,
   "metadata": {},
   "outputs": [
    {
     "data": {
      "text/html": [
       "<div>\n",
       "<style scoped>\n",
       "    .dataframe tbody tr th:only-of-type {\n",
       "        vertical-align: middle;\n",
       "    }\n",
       "\n",
       "    .dataframe tbody tr th {\n",
       "        vertical-align: top;\n",
       "    }\n",
       "\n",
       "    .dataframe thead th {\n",
       "        text-align: right;\n",
       "    }\n",
       "</style>\n",
       "<table border=\"1\" class=\"dataframe\">\n",
       "  <thead>\n",
       "    <tr style=\"text-align: right;\">\n",
       "      <th></th>\n",
       "      <th>name</th>\n",
       "      <th>toStarbucks</th>\n",
       "      <th>toPreschool</th>\n",
       "      <th>toDisco</th>\n",
       "      <th>toAirport</th>\n",
       "    </tr>\n",
       "  </thead>\n",
       "  <tbody>\n",
       "    <tr>\n",
       "      <th>42</th>\n",
       "      <td>SnapYap</td>\n",
       "      <td>0.022775</td>\n",
       "      <td>0.204982</td>\n",
       "      <td>0.245797</td>\n",
       "      <td>4.779015</td>\n",
       "    </tr>\n",
       "    <tr>\n",
       "      <th>50</th>\n",
       "      <td>WorldTV</td>\n",
       "      <td>0.013420</td>\n",
       "      <td>0.473074</td>\n",
       "      <td>0.490433</td>\n",
       "      <td>19.875228</td>\n",
       "    </tr>\n",
       "    <tr>\n",
       "      <th>85</th>\n",
       "      <td>ibeatyou</td>\n",
       "      <td>0.255185</td>\n",
       "      <td>0.289721</td>\n",
       "      <td>0.461007</td>\n",
       "      <td>11.497755</td>\n",
       "    </tr>\n",
       "    <tr>\n",
       "      <th>124</th>\n",
       "      <td>LyricFind</td>\n",
       "      <td>0.149712</td>\n",
       "      <td>0.199829</td>\n",
       "      <td>0.209788</td>\n",
       "      <td>9.318176</td>\n",
       "    </tr>\n",
       "    <tr>\n",
       "      <th>218</th>\n",
       "      <td>Kramaley Games</td>\n",
       "      <td>0.076329</td>\n",
       "      <td>0.383054</td>\n",
       "      <td>0.413387</td>\n",
       "      <td>13.759322</td>\n",
       "    </tr>\n",
       "    <tr>\n",
       "      <th>226</th>\n",
       "      <td>Comixology</td>\n",
       "      <td>0.284967</td>\n",
       "      <td>0.398040</td>\n",
       "      <td>0.462031</td>\n",
       "      <td>10.427814</td>\n",
       "    </tr>\n",
       "    <tr>\n",
       "      <th>236</th>\n",
       "      <td>Blip'd</td>\n",
       "      <td>0.259611</td>\n",
       "      <td>0.357023</td>\n",
       "      <td>0.425426</td>\n",
       "      <td>13.636290</td>\n",
       "    </tr>\n",
       "    <tr>\n",
       "      <th>249</th>\n",
       "      <td>Digitally Imported</td>\n",
       "      <td>0.193331</td>\n",
       "      <td>0.289697</td>\n",
       "      <td>0.370726</td>\n",
       "      <td>4.304936</td>\n",
       "    </tr>\n",
       "  </tbody>\n",
       "</table>\n",
       "</div>"
      ],
      "text/plain": [
       "                   name  toStarbucks  toPreschool   toDisco  toAirport\n",
       "42              SnapYap     0.022775     0.204982  0.245797   4.779015\n",
       "50              WorldTV     0.013420     0.473074  0.490433  19.875228\n",
       "85             ibeatyou     0.255185     0.289721  0.461007  11.497755\n",
       "124           LyricFind     0.149712     0.199829  0.209788   9.318176\n",
       "218      Kramaley Games     0.076329     0.383054  0.413387  13.759322\n",
       "226          Comixology     0.284967     0.398040  0.462031  10.427814\n",
       "236              Blip'd     0.259611     0.357023  0.425426  13.636290\n",
       "249  Digitally Imported     0.193331     0.289697  0.370726   4.304936"
      ]
     },
     "execution_count": 7,
     "metadata": {},
     "output_type": "execute_result"
    }
   ],
   "source": [
    "off_star = calcDist(df,'lat_s', 'lng_s')\n",
    "off_pre  = calcDist(df,'lat_p', 'lng_p')\n",
    "off_dis  = calcDist(df,'lat_d', 'lng_d')\n",
    "off_air  = calcDist(df,'lat_a', 'lng_a')\n",
    "\n",
    "df_full = pd.concat([df['name'],off_star.rename('toStarbucks'),\n",
    "                                off_pre.rename('toPreschool'),\n",
    "                                off_dis.rename('toDisco'),\n",
    "                                off_air.rename('toAirport')], axis=1)\n",
    "\n",
    "df_full.query('toAirport > toDisco > toPreschool > toStarbucks')"
   ]
  },
  {
   "cell_type": "markdown",
   "metadata": {},
   "source": [
    "From all possible options I selected the ones that have the closest Starbacks, following the closest Preschool, Night Club and Airport. Having the airport very close seems a very nice choice so, from the list, `SnapYap` will be **the chosen**."
   ]
  },
  {
   "cell_type": "markdown",
   "metadata": {},
   "source": [
    "**Latitude**: 42.3533 //\n",
    "**Longitude**: -71.0627\n",
    "- Name of the company: [SnapYap](https://www.crunchbase.com/organization/snapyap#section-overview)\n",
    "- Preschool: Emerson colleague 200m\n",
    "- Club: Sip Wine Bar <250m\n",
    "- Airport: 4.8km\n",
    "- Starbucks: 22m"
   ]
  },
  {
   "cell_type": "markdown",
   "metadata": {},
   "source": [
    "<img src=\"output/Boston.png\">"
   ]
  },
  {
   "cell_type": "markdown",
   "metadata": {},
   "source": [
    "## Crunch API"
   ]
  },
  {
   "cell_type": "markdown",
   "metadata": {},
   "source": [
    "Now we are going to use [Crunch API](https://data.crunchbase.com/reference#categories) to obtain locations for UX-Design companies. This API requires token authentification, so you will have to get one first."
   ]
  },
  {
   "cell_type": "code",
   "execution_count": 8,
   "metadata": {},
   "outputs": [
    {
     "name": "stdout",
     "output_type": "stream",
     "text": [
      "We have apiKey\n"
     ]
    }
   ],
   "source": [
    "#Load ApiKey\n",
    "load_dotenv()\n",
    "apiKey=os.getenv(\"crunch\")\n",
    "print(\"We have apiKey\") if apiKey else print(\"No apiKey\")"
   ]
  },
  {
   "cell_type": "markdown",
   "metadata": {},
   "source": [
    "The next stape is to make the query for the get request:"
   ]
  },
  {
   "cell_type": "code",
   "execution_count": 9,
   "metadata": {},
   "outputs": [],
   "source": [
    "url = \"https://api.crunchbase.com/v3.1/odm-organizations\"\n",
    "\n",
    "querystring = {\"categories\":\"ux design\",\n",
    "               \"organization_types\":\"company\",\n",
    "               \"locations\":\"Boston\",\n",
    "               \"sort_order\":\"created_at DESC\",\n",
    "               \"page\":\"1\",\n",
    "               \"user_key\":apiKey}\n",
    "\n",
    "response = requests.request(\"GET\", url, params=querystring, json='json')"
   ]
  },
  {
   "cell_type": "markdown",
   "metadata": {},
   "source": [
    "Finally, with the response, we can build a dataframe with the `name`, `city`, `region` and `country` of the ux-company."
   ]
  },
  {
   "cell_type": "code",
   "execution_count": 10,
   "metadata": {},
   "outputs": [
    {
     "data": {
      "text/html": [
       "<div>\n",
       "<style scoped>\n",
       "    .dataframe tbody tr th:only-of-type {\n",
       "        vertical-align: middle;\n",
       "    }\n",
       "\n",
       "    .dataframe tbody tr th {\n",
       "        vertical-align: top;\n",
       "    }\n",
       "\n",
       "    .dataframe thead th {\n",
       "        text-align: right;\n",
       "    }\n",
       "</style>\n",
       "<table border=\"1\" class=\"dataframe\">\n",
       "  <thead>\n",
       "    <tr style=\"text-align: right;\">\n",
       "      <th></th>\n",
       "      <th>properties.name</th>\n",
       "      <th>properties.city_name</th>\n",
       "      <th>properties.region_name</th>\n",
       "      <th>properties.country_code</th>\n",
       "    </tr>\n",
       "  </thead>\n",
       "  <tbody>\n",
       "    <tr>\n",
       "      <th>0</th>\n",
       "      <td>Unsize</td>\n",
       "      <td>Boston</td>\n",
       "      <td>Massachusetts</td>\n",
       "      <td>United States</td>\n",
       "    </tr>\n",
       "    <tr>\n",
       "      <th>1</th>\n",
       "      <td>Essential Design</td>\n",
       "      <td>Boston</td>\n",
       "      <td>Massachusetts</td>\n",
       "      <td>United States</td>\n",
       "    </tr>\n",
       "    <tr>\n",
       "      <th>2</th>\n",
       "      <td>Parlor</td>\n",
       "      <td>Boston</td>\n",
       "      <td>Massachusetts</td>\n",
       "      <td>United States</td>\n",
       "    </tr>\n",
       "    <tr>\n",
       "      <th>3</th>\n",
       "      <td>Vempathy</td>\n",
       "      <td>Boston</td>\n",
       "      <td>Massachusetts</td>\n",
       "      <td>United States</td>\n",
       "    </tr>\n",
       "    <tr>\n",
       "      <th>4</th>\n",
       "      <td>Pixetic</td>\n",
       "      <td>Boston</td>\n",
       "      <td>Massachusetts</td>\n",
       "      <td>United States</td>\n",
       "    </tr>\n",
       "  </tbody>\n",
       "</table>\n",
       "</div>"
      ],
      "text/plain": [
       "    properties.name properties.city_name properties.region_name  \\\n",
       "0            Unsize               Boston          Massachusetts   \n",
       "1  Essential Design               Boston          Massachusetts   \n",
       "2            Parlor               Boston          Massachusetts   \n",
       "3          Vempathy               Boston          Massachusetts   \n",
       "4           Pixetic               Boston          Massachusetts   \n",
       "\n",
       "  properties.country_code  \n",
       "0           United States  \n",
       "1           United States  \n",
       "2           United States  \n",
       "3           United States  \n",
       "4           United States  "
      ]
     },
     "execution_count": 10,
     "metadata": {},
     "output_type": "execute_result"
    }
   ],
   "source": [
    "res = response.json()\n",
    "df=pd.json_normalize(res['data']['items'])\n",
    "df=df[['properties.name','properties.city_name','properties.region_name','properties.country_code']]\n",
    "df.head()"
   ]
  },
  {
   "cell_type": "markdown",
   "metadata": {},
   "source": [
    "We can do geocoding by converting an addresses to geographic coordinates. These coordinates will be use to build a `near` request to MongoDB to check if we have one of the selected companies closeby the chosen `ux-design` company. "
   ]
  },
  {
   "cell_type": "code",
   "execution_count": 12,
   "metadata": {},
   "outputs": [
    {
     "name": "stdout",
     "output_type": "stream",
     "text": [
      "<Response [200]>\n"
     ]
    },
    {
     "data": {
      "text/html": [
       "<div>\n",
       "<style scoped>\n",
       "    .dataframe tbody tr th:only-of-type {\n",
       "        vertical-align: middle;\n",
       "    }\n",
       "\n",
       "    .dataframe tbody tr th {\n",
       "        vertical-align: top;\n",
       "    }\n",
       "\n",
       "    .dataframe thead th {\n",
       "        text-align: right;\n",
       "    }\n",
       "</style>\n",
       "<table border=\"1\" class=\"dataframe\">\n",
       "  <thead>\n",
       "    <tr style=\"text-align: right;\">\n",
       "      <th></th>\n",
       "      <th>name</th>\n",
       "      <th>category_code</th>\n",
       "      <th>latitude</th>\n",
       "      <th>longitude</th>\n",
       "    </tr>\n",
       "  </thead>\n",
       "  <tbody>\n",
       "    <tr>\n",
       "      <th>0</th>\n",
       "      <td>MocoSpace</td>\n",
       "      <td>games_video</td>\n",
       "      <td>42.350274</td>\n",
       "      <td>-71.058768</td>\n",
       "    </tr>\n",
       "    <tr>\n",
       "      <th>1</th>\n",
       "      <td>Hangout Industries</td>\n",
       "      <td>games_video</td>\n",
       "      <td>42.352835</td>\n",
       "      <td>-71.060961</td>\n",
       "    </tr>\n",
       "    <tr>\n",
       "      <th>3</th>\n",
       "      <td>SnapYap</td>\n",
       "      <td>games_video</td>\n",
       "      <td>42.352096</td>\n",
       "      <td>-71.064632</td>\n",
       "    </tr>\n",
       "  </tbody>\n",
       "</table>\n",
       "</div>"
      ],
      "text/plain": [
       "                 name category_code   latitude  longitude\n",
       "0           MocoSpace   games_video  42.350274 -71.058768\n",
       "1  Hangout Industries   games_video  42.352835 -71.060961\n",
       "3             SnapYap   games_video  42.352096 -71.064632"
      ]
     },
     "execution_count": 12,
     "metadata": {},
     "output_type": "execute_result"
    }
   ],
   "source": [
    "GeoQueryMongo('Essential Design 143 South St 6th floor, Boston')"
   ]
  },
  {
   "cell_type": "markdown",
   "metadata": {},
   "source": [
    "Under the light of the results it can be said that **SnapYap** is close (<700m) to the UX-Design Company (**Essential Design Boston**). "
   ]
  }
 ],
 "metadata": {
  "kernelspec": {
   "display_name": "analytics_env",
   "language": "python",
   "name": "analytics_env"
  },
  "language_info": {
   "codemirror_mode": {
    "name": "ipython",
    "version": 3
   },
   "file_extension": ".py",
   "mimetype": "text/x-python",
   "name": "python",
   "nbconvert_exporter": "python",
   "pygments_lexer": "ipython3",
   "version": "3.8.2"
  }
 },
 "nbformat": 4,
 "nbformat_minor": 4
}
