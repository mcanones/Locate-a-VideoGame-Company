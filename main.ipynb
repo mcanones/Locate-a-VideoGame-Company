{
 "cells": [
  {
   "cell_type": "code",
   "execution_count": 1,
   "metadata": {},
   "outputs": [],
   "source": [
    "import os\n",
    "from dotenv import load_dotenv\n",
    "from pymongo import MongoClient\n",
    "from src.GeoQueryMongo import *\n",
    "import pandas as pd\n",
    "import requests\n",
    "from src.geocode import *"
   ]
  },
  {
   "cell_type": "code",
   "execution_count": 2,
   "metadata": {},
   "outputs": [],
   "source": [
    "client = MongoClient(f\"mongodb://localhost/companies\")\n",
    "db = client.get_database()\n",
    "data = list(db.companies_selected.find({}))\n",
    "df=pd.DataFrame(data)"
   ]
  },
  {
   "cell_type": "code",
   "execution_count": 3,
   "metadata": {},
   "outputs": [],
   "source": [
    "df_airport=df[['lat_a','lng_a','name']]\n",
    "df_airport.columns=[['latitude','longitude','name']]\n",
    "df_discos=df[['lat_d','lng_d','name']]\n",
    "df_discos.columns=[['latitude','longitude','name']]\n",
    "df_preschool=df[['lat_p','lng_p','name']]\n",
    "df_preschool.columns=[['latitude','longitude','name']]\n",
    "df_starbucks=df[['lat_s','lng_s','name']]\n",
    "df_starbucks.columns=[['latitude','longitude','name']]\n",
    "df_companies=df[['latitude','longitude','name']]\n",
    "df_companies.columns=[['latitude','longitude','name']]\n",
    "\n",
    "objs=[df_companies, df_airport, df_discos, df_preschool, df_starbucks]\n",
    "df_tableau = pd.concat(objs, axis=0)\n",
    "df_tableau.reset_index(drop=True, inplace=True)\n",
    "df_tableau.to_json(\"./output/df_tableau.json\",orient=\"records\")"
   ]
  },
  {
   "cell_type": "markdown",
   "metadata": {},
   "source": [
    "## Crunch"
   ]
  },
  {
   "cell_type": "code",
   "execution_count": 4,
   "metadata": {},
   "outputs": [
    {
     "name": "stdout",
     "output_type": "stream",
     "text": [
      "We have apiKey\n"
     ]
    }
   ],
   "source": [
    "load_dotenv()\n",
    "apiKey=os.getenv(\"crunch\")\n",
    "print(\"We have apiKey\") if apiKey else print(\"No apiKey\")"
   ]
  },
  {
   "cell_type": "code",
   "execution_count": 5,
   "metadata": {},
   "outputs": [
    {
     "data": {
      "text/plain": [
       "<Response [200]>"
      ]
     },
     "execution_count": 5,
     "metadata": {},
     "output_type": "execute_result"
    }
   ],
   "source": [
    "url = \"https://api.crunchbase.com/v3.1/odm-organizations\"\n",
    "\n",
    "querystring = {\"categories\":\"ux design\",\n",
    "               \"organization_types\":\"company\",\n",
    "               \"locations\":\"Toronto\",\n",
    "               \"sort_order\":\"created_at DESC\",\n",
    "               \"page\":\"1\",\n",
    "               \"user_key\":apiKey}\n",
    "\n",
    "response = requests.request(\"GET\", url, params=querystring, json='json')\n",
    "response"
   ]
  },
  {
   "cell_type": "code",
   "execution_count": 6,
   "metadata": {},
   "outputs": [
    {
     "data": {
      "text/html": [
       "<div>\n",
       "<style scoped>\n",
       "    .dataframe tbody tr th:only-of-type {\n",
       "        vertical-align: middle;\n",
       "    }\n",
       "\n",
       "    .dataframe tbody tr th {\n",
       "        vertical-align: top;\n",
       "    }\n",
       "\n",
       "    .dataframe thead th {\n",
       "        text-align: right;\n",
       "    }\n",
       "</style>\n",
       "<table border=\"1\" class=\"dataframe\">\n",
       "  <thead>\n",
       "    <tr style=\"text-align: right;\">\n",
       "      <th></th>\n",
       "      <th>properties.name</th>\n",
       "      <th>properties.city_name</th>\n",
       "      <th>properties.region_name</th>\n",
       "      <th>properties.country_code</th>\n",
       "    </tr>\n",
       "  </thead>\n",
       "  <tbody>\n",
       "    <tr>\n",
       "      <th>0</th>\n",
       "      <td>Switch Creative Solutions</td>\n",
       "      <td>Toronto</td>\n",
       "      <td>Ontario</td>\n",
       "      <td>Canada</td>\n",
       "    </tr>\n",
       "    <tr>\n",
       "      <th>1</th>\n",
       "      <td>Taskoob</td>\n",
       "      <td>Toronto</td>\n",
       "      <td>Ontario</td>\n",
       "      <td>Canada</td>\n",
       "    </tr>\n",
       "    <tr>\n",
       "      <th>2</th>\n",
       "      <td>PATIO Interactive</td>\n",
       "      <td>Toronto</td>\n",
       "      <td>Ontario</td>\n",
       "      <td>Canada</td>\n",
       "    </tr>\n",
       "    <tr>\n",
       "      <th>3</th>\n",
       "      <td>Counter Design Studio</td>\n",
       "      <td>Toronto</td>\n",
       "      <td>Ontario</td>\n",
       "      <td>Canada</td>\n",
       "    </tr>\n",
       "    <tr>\n",
       "      <th>4</th>\n",
       "      <td>BSI Labs</td>\n",
       "      <td>Toronto</td>\n",
       "      <td>Ontario</td>\n",
       "      <td>Canada</td>\n",
       "    </tr>\n",
       "    <tr>\n",
       "      <th>5</th>\n",
       "      <td>Henchmen Studios</td>\n",
       "      <td>Toronto</td>\n",
       "      <td>Ontario</td>\n",
       "      <td>Canada</td>\n",
       "    </tr>\n",
       "    <tr>\n",
       "      <th>6</th>\n",
       "      <td>MitreBox User Experience Design</td>\n",
       "      <td>Toronto</td>\n",
       "      <td>Ontario</td>\n",
       "      <td>Canada</td>\n",
       "    </tr>\n",
       "    <tr>\n",
       "      <th>7</th>\n",
       "      <td>Akendi</td>\n",
       "      <td>Toronto</td>\n",
       "      <td>Ontario</td>\n",
       "      <td>Canada</td>\n",
       "    </tr>\n",
       "    <tr>\n",
       "      <th>8</th>\n",
       "      <td>HumanLogic</td>\n",
       "      <td>Toronto</td>\n",
       "      <td>Ontario</td>\n",
       "      <td>Canada</td>\n",
       "    </tr>\n",
       "    <tr>\n",
       "      <th>9</th>\n",
       "      <td>Art &amp; Mechanical</td>\n",
       "      <td>Toronto</td>\n",
       "      <td>Ontario</td>\n",
       "      <td>Canada</td>\n",
       "    </tr>\n",
       "    <tr>\n",
       "      <th>10</th>\n",
       "      <td>Geolance Tech</td>\n",
       "      <td>Toronto</td>\n",
       "      <td>Ontario</td>\n",
       "      <td>Canada</td>\n",
       "    </tr>\n",
       "    <tr>\n",
       "      <th>11</th>\n",
       "      <td>Idea Theorem</td>\n",
       "      <td>Toronto</td>\n",
       "      <td>Ontario</td>\n",
       "      <td>Canada</td>\n",
       "    </tr>\n",
       "    <tr>\n",
       "      <th>12</th>\n",
       "      <td>Normative</td>\n",
       "      <td>Toronto</td>\n",
       "      <td>Ontario</td>\n",
       "      <td>Canada</td>\n",
       "    </tr>\n",
       "    <tr>\n",
       "      <th>13</th>\n",
       "      <td>Crowdlinker</td>\n",
       "      <td>Toronto</td>\n",
       "      <td>Ontario</td>\n",
       "      <td>Canada</td>\n",
       "    </tr>\n",
       "    <tr>\n",
       "      <th>14</th>\n",
       "      <td>Vordik</td>\n",
       "      <td>Toronto</td>\n",
       "      <td>Ontario</td>\n",
       "      <td>Canada</td>\n",
       "    </tr>\n",
       "  </tbody>\n",
       "</table>\n",
       "</div>"
      ],
      "text/plain": [
       "                    properties.name properties.city_name  \\\n",
       "0         Switch Creative Solutions              Toronto   \n",
       "1                           Taskoob              Toronto   \n",
       "2                 PATIO Interactive              Toronto   \n",
       "3             Counter Design Studio              Toronto   \n",
       "4                          BSI Labs              Toronto   \n",
       "5                  Henchmen Studios              Toronto   \n",
       "6   MitreBox User Experience Design              Toronto   \n",
       "7                            Akendi              Toronto   \n",
       "8                        HumanLogic              Toronto   \n",
       "9                  Art & Mechanical              Toronto   \n",
       "10                    Geolance Tech              Toronto   \n",
       "11                     Idea Theorem              Toronto   \n",
       "12                        Normative              Toronto   \n",
       "13                      Crowdlinker              Toronto   \n",
       "14                           Vordik              Toronto   \n",
       "\n",
       "   properties.region_name properties.country_code  \n",
       "0                 Ontario                  Canada  \n",
       "1                 Ontario                  Canada  \n",
       "2                 Ontario                  Canada  \n",
       "3                 Ontario                  Canada  \n",
       "4                 Ontario                  Canada  \n",
       "5                 Ontario                  Canada  \n",
       "6                 Ontario                  Canada  \n",
       "7                 Ontario                  Canada  \n",
       "8                 Ontario                  Canada  \n",
       "9                 Ontario                  Canada  \n",
       "10                Ontario                  Canada  \n",
       "11                Ontario                  Canada  \n",
       "12                Ontario                  Canada  \n",
       "13                Ontario                  Canada  \n",
       "14                Ontario                  Canada  "
      ]
     },
     "execution_count": 6,
     "metadata": {},
     "output_type": "execute_result"
    }
   ],
   "source": [
    "res = response.json()\n",
    "df=pd.json_normalize(res['data']['items'])\n",
    "df=df[['properties.name','properties.city_name','properties.region_name','properties.country_code']]\n",
    "df"
   ]
  },
  {
   "cell_type": "code",
   "execution_count": 7,
   "metadata": {},
   "outputs": [
    {
     "name": "stdout",
     "output_type": "stream",
     "text": [
      "<Response [200]>\n"
     ]
    },
    {
     "data": {
      "text/plain": [
       "{'type': 'Point', 'coordinates': [-79.34656, 43.66659]}"
      ]
     },
     "execution_count": 7,
     "metadata": {},
     "output_type": "execute_result"
    }
   ],
   "source": [
    "geocode('Switch Creative Solutions Toronto')"
   ]
  },
  {
   "cell_type": "code",
   "execution_count": 8,
   "metadata": {},
   "outputs": [
    {
     "name": "stdout",
     "output_type": "stream",
     "text": [
      "<Response [200]>\n"
     ]
    },
    {
     "data": {
      "text/html": [
       "<div>\n",
       "<style scoped>\n",
       "    .dataframe tbody tr th:only-of-type {\n",
       "        vertical-align: middle;\n",
       "    }\n",
       "\n",
       "    .dataframe tbody tr th {\n",
       "        vertical-align: top;\n",
       "    }\n",
       "\n",
       "    .dataframe thead th {\n",
       "        text-align: right;\n",
       "    }\n",
       "</style>\n",
       "<table border=\"1\" class=\"dataframe\">\n",
       "  <thead>\n",
       "    <tr style=\"text-align: right;\">\n",
       "      <th></th>\n",
       "      <th>name</th>\n",
       "      <th>category_code</th>\n",
       "      <th>latitude</th>\n",
       "      <th>longitude</th>\n",
       "    </tr>\n",
       "  </thead>\n",
       "  <tbody>\n",
       "    <tr>\n",
       "      <th>0</th>\n",
       "      <td>GPokr</td>\n",
       "      <td>games_video</td>\n",
       "      <td>43.670233</td>\n",
       "      <td>-79.386755</td>\n",
       "    </tr>\n",
       "    <tr>\n",
       "      <th>1</th>\n",
       "      <td>Wisevid</td>\n",
       "      <td>games_video</td>\n",
       "      <td>43.670233</td>\n",
       "      <td>-79.386755</td>\n",
       "    </tr>\n",
       "  </tbody>\n",
       "</table>\n",
       "</div>"
      ],
      "text/plain": [
       "      name category_code   latitude  longitude\n",
       "0    GPokr   games_video  43.670233 -79.386755\n",
       "1  Wisevid   games_video  43.670233 -79.386755"
      ]
     },
     "execution_count": 8,
     "metadata": {},
     "output_type": "execute_result"
    }
   ],
   "source": [
    "GeoQueryMongo('Switch Creative Solutions Toronto')"
   ]
  }
 ],
 "metadata": {
  "kernelspec": {
   "display_name": "analytics_env",
   "language": "python",
   "name": "analytics_env"
  },
  "language_info": {
   "codemirror_mode": {
    "name": "ipython",
    "version": 3
   },
   "file_extension": ".py",
   "mimetype": "text/x-python",
   "name": "python",
   "nbconvert_exporter": "python",
   "pygments_lexer": "ipython3",
   "version": "3.8.2"
  }
 },
 "nbformat": 4,
 "nbformat_minor": 4
}
