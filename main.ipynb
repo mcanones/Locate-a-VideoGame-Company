{
 "cells": [
  {
   "cell_type": "markdown",
   "metadata": {},
   "source": [
    "## Import libraries"
   ]
  },
  {
   "cell_type": "code",
   "execution_count": 1,
   "metadata": {},
   "outputs": [],
   "source": [
    "import pandas as pd\n",
    "from pymongo import MongoClient\n",
    "from src.GeoQueryMongo import *\n",
    "from src.geocode import *\n",
    "import os\n",
    "from dotenv import load_dotenv\n",
    "import requests"
   ]
  },
  {
   "cell_type": "markdown",
   "metadata": {},
   "source": [
    "## Connect with MongoDB"
   ]
  },
  {
   "cell_type": "markdown",
   "metadata": {},
   "source": [
    "As expained in the `README.md` before running `main.ipynb` you should run first the following python files in folder `scripts` in this order:\n",
    "\n",
    "- Run `offices_processed.py` --> Obtain `companies_processed.json` \n",
    "- Run `offices_mining.py` --> Obtain `companies_mining.json`       \n",
    "- Run `offices_filtered.py` --> Obtain `companies_selected.json`  \n",
    "\n",
    "Once you load `companies_selected.json` in MongoDB with this instruction: `mongoimport --db companies --collection companies_processed --file companies_processed.json --jsonArray` you will be able to run the cells below."
   ]
  },
  {
   "cell_type": "code",
   "execution_count": 2,
   "metadata": {},
   "outputs": [],
   "source": [
    "client = MongoClient(f\"mongodb://localhost/companies\")\n",
    "db = client.get_database()\n",
    "data = list(db.companies_selected.find({}))\n",
    "df=pd.DataFrame(data)"
   ]
  },
  {
   "cell_type": "code",
   "execution_count": 3,
   "metadata": {},
   "outputs": [
    {
     "data": {
      "text/html": [
       "<div>\n",
       "<style scoped>\n",
       "    .dataframe tbody tr th:only-of-type {\n",
       "        vertical-align: middle;\n",
       "    }\n",
       "\n",
       "    .dataframe tbody tr th {\n",
       "        vertical-align: top;\n",
       "    }\n",
       "\n",
       "    .dataframe thead th {\n",
       "        text-align: right;\n",
       "    }\n",
       "</style>\n",
       "<table border=\"1\" class=\"dataframe\">\n",
       "  <thead>\n",
       "    <tr style=\"text-align: right;\">\n",
       "      <th></th>\n",
       "      <th>_id</th>\n",
       "      <th>name</th>\n",
       "      <th>category_code</th>\n",
       "      <th>office</th>\n",
       "      <th>clean_state</th>\n",
       "      <th>latitude</th>\n",
       "      <th>longitude</th>\n",
       "      <th>Starbucks</th>\n",
       "      <th>Starbucks_state</th>\n",
       "      <th>lat_s</th>\n",
       "      <th>...</th>\n",
       "      <th>lat_p</th>\n",
       "      <th>lng_p</th>\n",
       "      <th>Disco</th>\n",
       "      <th>Disco_state</th>\n",
       "      <th>lat_d</th>\n",
       "      <th>lng_d</th>\n",
       "      <th>Airport</th>\n",
       "      <th>Airport_state</th>\n",
       "      <th>lat_a</th>\n",
       "      <th>lng_a</th>\n",
       "    </tr>\n",
       "  </thead>\n",
       "  <tbody>\n",
       "    <tr>\n",
       "      <th>0</th>\n",
       "      <td>5e9c7638d07dd4923741d833</td>\n",
       "      <td>Kyte</td>\n",
       "      <td>games_video</td>\n",
       "      <td>{'type': 'Point', 'coordinates': [-122.409173,...</td>\n",
       "      <td>success</td>\n",
       "      <td>37.788482</td>\n",
       "      <td>-122.409173</td>\n",
       "      <td>{'type': 'Point', 'coordinates': [-122.4042684...</td>\n",
       "      <td>success</td>\n",
       "      <td>37.792814</td>\n",
       "      <td>...</td>\n",
       "      <td>37.792992</td>\n",
       "      <td>-122.407870</td>\n",
       "      <td>{'type': 'Point', 'coordinates': [-122.4102387...</td>\n",
       "      <td>success</td>\n",
       "      <td>37.791749</td>\n",
       "      <td>-122.410239</td>\n",
       "      <td>{'type': 'Point', 'coordinates': [-122.3789554...</td>\n",
       "      <td>success</td>\n",
       "      <td>37.621313</td>\n",
       "      <td>-122.378955</td>\n",
       "    </tr>\n",
       "    <tr>\n",
       "      <th>1</th>\n",
       "      <td>5e9c7638d07dd4923741d834</td>\n",
       "      <td>Babelgum</td>\n",
       "      <td>games_video</td>\n",
       "      <td>{'type': 'Point', 'coordinates': [-6.267494, 5...</td>\n",
       "      <td>success</td>\n",
       "      <td>53.344104</td>\n",
       "      <td>-6.267494</td>\n",
       "      <td>{'type': 'Point', 'coordinates': [-6.2612559, ...</td>\n",
       "      <td>success</td>\n",
       "      <td>53.344475</td>\n",
       "      <td>...</td>\n",
       "      <td>53.347773</td>\n",
       "      <td>-6.258879</td>\n",
       "      <td>{'type': 'Point', 'coordinates': [-6.2675772, ...</td>\n",
       "      <td>success</td>\n",
       "      <td>53.344807</td>\n",
       "      <td>-6.267577</td>\n",
       "      <td>{'type': 'Point', 'coordinates': [-6.2499098, ...</td>\n",
       "      <td>success</td>\n",
       "      <td>53.426448</td>\n",
       "      <td>-6.249910</td>\n",
       "    </tr>\n",
       "    <tr>\n",
       "      <th>2</th>\n",
       "      <td>5e9c7638d07dd4923741d835</td>\n",
       "      <td>Livestream</td>\n",
       "      <td>games_video</td>\n",
       "      <td>{'type': 'Point', 'coordinates': [-73.995625, ...</td>\n",
       "      <td>success</td>\n",
       "      <td>40.726155</td>\n",
       "      <td>-73.995625</td>\n",
       "      <td>{'type': 'Point', 'coordinates': [-73.995485, ...</td>\n",
       "      <td>success</td>\n",
       "      <td>40.727212</td>\n",
       "      <td>...</td>\n",
       "      <td>40.728831</td>\n",
       "      <td>-73.999507</td>\n",
       "      <td>{'type': 'Point', 'coordinates': [-73.9914785,...</td>\n",
       "      <td>success</td>\n",
       "      <td>40.726018</td>\n",
       "      <td>-73.991478</td>\n",
       "      <td>{'type': 'Point', 'coordinates': [-73.8739659,...</td>\n",
       "      <td>success</td>\n",
       "      <td>40.776927</td>\n",
       "      <td>-73.873966</td>\n",
       "    </tr>\n",
       "  </tbody>\n",
       "</table>\n",
       "<p>3 rows × 23 columns</p>\n",
       "</div>"
      ],
      "text/plain": [
       "                        _id        name category_code  \\\n",
       "0  5e9c7638d07dd4923741d833        Kyte   games_video   \n",
       "1  5e9c7638d07dd4923741d834    Babelgum   games_video   \n",
       "2  5e9c7638d07dd4923741d835  Livestream   games_video   \n",
       "\n",
       "                                              office clean_state   latitude  \\\n",
       "0  {'type': 'Point', 'coordinates': [-122.409173,...     success  37.788482   \n",
       "1  {'type': 'Point', 'coordinates': [-6.267494, 5...     success  53.344104   \n",
       "2  {'type': 'Point', 'coordinates': [-73.995625, ...     success  40.726155   \n",
       "\n",
       "    longitude                                          Starbucks  \\\n",
       "0 -122.409173  {'type': 'Point', 'coordinates': [-122.4042684...   \n",
       "1   -6.267494  {'type': 'Point', 'coordinates': [-6.2612559, ...   \n",
       "2  -73.995625  {'type': 'Point', 'coordinates': [-73.995485, ...   \n",
       "\n",
       "  Starbucks_state      lat_s  ...      lat_p       lng_p  \\\n",
       "0         success  37.792814  ...  37.792992 -122.407870   \n",
       "1         success  53.344475  ...  53.347773   -6.258879   \n",
       "2         success  40.727212  ...  40.728831  -73.999507   \n",
       "\n",
       "                                               Disco  Disco_state      lat_d  \\\n",
       "0  {'type': 'Point', 'coordinates': [-122.4102387...      success  37.791749   \n",
       "1  {'type': 'Point', 'coordinates': [-6.2675772, ...      success  53.344807   \n",
       "2  {'type': 'Point', 'coordinates': [-73.9914785,...      success  40.726018   \n",
       "\n",
       "        lng_d                                            Airport  \\\n",
       "0 -122.410239  {'type': 'Point', 'coordinates': [-122.3789554...   \n",
       "1   -6.267577  {'type': 'Point', 'coordinates': [-6.2499098, ...   \n",
       "2  -73.991478  {'type': 'Point', 'coordinates': [-73.8739659,...   \n",
       "\n",
       "   Airport_state      lat_a       lng_a  \n",
       "0        success  37.621313 -122.378955  \n",
       "1        success  53.426448   -6.249910  \n",
       "2        success  40.776927  -73.873966  \n",
       "\n",
       "[3 rows x 23 columns]"
      ]
     },
     "execution_count": 3,
     "metadata": {},
     "output_type": "execute_result"
    }
   ],
   "source": [
    "df.head(3)"
   ]
  },
  {
   "cell_type": "markdown",
   "metadata": {},
   "source": [
    "## Prepare dataset for Tableau"
   ]
  },
  {
   "cell_type": "markdown",
   "metadata": {},
   "source": [
    "After trying different visualization options with Tableau (dual axis, joints...) for the dataframe `df`, the simplest way to make the representation seemed to be with a single dataset of 3 columns **latitude**, **longitude** and **names**. The cell below generates such simplified dataset."
   ]
  },
  {
   "cell_type": "code",
   "execution_count": 4,
   "metadata": {},
   "outputs": [],
   "source": [
    "#Create subset and rename columns\n",
    "df_airport=df[['lat_a','lng_a','name']]\n",
    "df_airport.columns=[['latitude','longitude','name']]\n",
    "df_discos=df[['lat_d','lng_d','name']]\n",
    "df_discos.columns=[['latitude','longitude','name']]\n",
    "df_preschool=df[['lat_p','lng_p','name']]\n",
    "df_preschool.columns=[['latitude','longitude','name']]\n",
    "df_starbucks=df[['lat_s','lng_s','name']]\n",
    "df_starbucks.columns=[['latitude','longitude','name']]\n",
    "df_companies=df[['latitude','longitude','name']]\n",
    "df_companies.columns=[['latitude','longitude','name']]"
   ]
  },
  {
   "cell_type": "code",
   "execution_count": 5,
   "metadata": {},
   "outputs": [],
   "source": [
    "#Concatenate\n",
    "objs=[df_companies, df_airport, df_discos, df_preschool, df_starbucks]\n",
    "df_tableau = pd.concat(objs, axis=0)\n",
    "df_tableau.reset_index(drop=True, inplace=True)"
   ]
  },
  {
   "cell_type": "code",
   "execution_count": 6,
   "metadata": {},
   "outputs": [],
   "source": [
    "#Save in the output folder\n",
    "df_tableau.to_json(\"./output/df_tableau.json\",orient=\"records\")"
   ]
  },
  {
   "cell_type": "markdown",
   "metadata": {},
   "source": [
    "## Obtain map in Tableau"
   ]
  },
  {
   "cell_type": "markdown",
   "metadata": {},
   "source": [
    "A file from Tablau is provided in the `output` folder: `GeoSpatial Data Project.twbx`. You can open this file with tableau and explore yourself the possible locations for the company worldwide."
   ]
  },
  {
   "cell_type": "markdown",
   "metadata": {},
   "source": [
    "<img src=\"output/Tableau_interface.png\">"
   ]
  },
  {
   "cell_type": "markdown",
   "metadata": {},
   "source": [
    "As you can see there are groups of 4 points in the same color. They are catherogized by the name of the `company`. If you zoom in tableau you will se that below the pont there is a Starbucks, Night Club, etc. An example is provided below:"
   ]
  },
  {
   "cell_type": "markdown",
   "metadata": {},
   "source": [
    "<img src=\"output/Tableau_interface_2.png\">"
   ]
  },
  {
   "cell_type": "markdown",
   "metadata": {},
   "source": [
    "## Crunch API"
   ]
  },
  {
   "cell_type": "markdown",
   "metadata": {},
   "source": [
    "Now we are going to use [Crunch API](https://data.crunchbase.com/reference#categories) to obtain locations for UX-Design companies. This API requires token authentification, so you will have to get one first."
   ]
  },
  {
   "cell_type": "code",
   "execution_count": 7,
   "metadata": {},
   "outputs": [
    {
     "name": "stdout",
     "output_type": "stream",
     "text": [
      "We have apiKey\n"
     ]
    }
   ],
   "source": [
    "#Load ApiKey\n",
    "load_dotenv()\n",
    "apiKey=os.getenv(\"crunch\")\n",
    "print(\"We have apiKey\") if apiKey else print(\"No apiKey\")"
   ]
  },
  {
   "cell_type": "markdown",
   "metadata": {},
   "source": [
    "The next stape is to make the query for the get request:"
   ]
  },
  {
   "cell_type": "code",
   "execution_count": 8,
   "metadata": {},
   "outputs": [],
   "source": [
    "url = \"https://api.crunchbase.com/v3.1/odm-organizations\"\n",
    "\n",
    "querystring = {\"categories\":\"ux design\",\n",
    "               \"organization_types\":\"company\",\n",
    "               \"locations\":\"Toronto\",\n",
    "               \"sort_order\":\"created_at DESC\",\n",
    "               \"page\":\"1\",\n",
    "               \"user_key\":apiKey}\n",
    "\n",
    "response = requests.request(\"GET\", url, params=querystring, json='json')"
   ]
  },
  {
   "cell_type": "markdown",
   "metadata": {},
   "source": [
    "Finally, with the response, we can build a dataframe with the `name`, `city`, `region` and `country` of the ux-company."
   ]
  },
  {
   "cell_type": "code",
   "execution_count": 9,
   "metadata": {
    "scrolled": true
   },
   "outputs": [
    {
     "data": {
      "text/html": [
       "<div>\n",
       "<style scoped>\n",
       "    .dataframe tbody tr th:only-of-type {\n",
       "        vertical-align: middle;\n",
       "    }\n",
       "\n",
       "    .dataframe tbody tr th {\n",
       "        vertical-align: top;\n",
       "    }\n",
       "\n",
       "    .dataframe thead th {\n",
       "        text-align: right;\n",
       "    }\n",
       "</style>\n",
       "<table border=\"1\" class=\"dataframe\">\n",
       "  <thead>\n",
       "    <tr style=\"text-align: right;\">\n",
       "      <th></th>\n",
       "      <th>properties.name</th>\n",
       "      <th>properties.city_name</th>\n",
       "      <th>properties.region_name</th>\n",
       "      <th>properties.country_code</th>\n",
       "    </tr>\n",
       "  </thead>\n",
       "  <tbody>\n",
       "    <tr>\n",
       "      <th>0</th>\n",
       "      <td>Switch Creative Solutions</td>\n",
       "      <td>Toronto</td>\n",
       "      <td>Ontario</td>\n",
       "      <td>Canada</td>\n",
       "    </tr>\n",
       "    <tr>\n",
       "      <th>1</th>\n",
       "      <td>Taskoob</td>\n",
       "      <td>Toronto</td>\n",
       "      <td>Ontario</td>\n",
       "      <td>Canada</td>\n",
       "    </tr>\n",
       "    <tr>\n",
       "      <th>2</th>\n",
       "      <td>PATIO Interactive</td>\n",
       "      <td>Toronto</td>\n",
       "      <td>Ontario</td>\n",
       "      <td>Canada</td>\n",
       "    </tr>\n",
       "    <tr>\n",
       "      <th>3</th>\n",
       "      <td>Counter Design Studio</td>\n",
       "      <td>Toronto</td>\n",
       "      <td>Ontario</td>\n",
       "      <td>Canada</td>\n",
       "    </tr>\n",
       "    <tr>\n",
       "      <th>4</th>\n",
       "      <td>BSI Labs</td>\n",
       "      <td>Toronto</td>\n",
       "      <td>Ontario</td>\n",
       "      <td>Canada</td>\n",
       "    </tr>\n",
       "  </tbody>\n",
       "</table>\n",
       "</div>"
      ],
      "text/plain": [
       "             properties.name properties.city_name properties.region_name  \\\n",
       "0  Switch Creative Solutions              Toronto                Ontario   \n",
       "1                    Taskoob              Toronto                Ontario   \n",
       "2          PATIO Interactive              Toronto                Ontario   \n",
       "3      Counter Design Studio              Toronto                Ontario   \n",
       "4                   BSI Labs              Toronto                Ontario   \n",
       "\n",
       "  properties.country_code  \n",
       "0                  Canada  \n",
       "1                  Canada  \n",
       "2                  Canada  \n",
       "3                  Canada  \n",
       "4                  Canada  "
      ]
     },
     "execution_count": 9,
     "metadata": {},
     "output_type": "execute_result"
    }
   ],
   "source": [
    "res = response.json()\n",
    "df=pd.json_normalize(res['data']['items'])\n",
    "df=df[['properties.name','properties.city_name','properties.region_name','properties.country_code']]\n",
    "df.head()"
   ]
  },
  {
   "cell_type": "markdown",
   "metadata": {},
   "source": [
    "We can do geocoding by converting an addresses to geographic coordinates. These coordinates will be use to build a `near` request to MongoDB to check if we have one of the selected companies closeby the chosen ux-design company. "
   ]
  },
  {
   "cell_type": "code",
   "execution_count": 12,
   "metadata": {
    "scrolled": true
   },
   "outputs": [
    {
     "name": "stdout",
     "output_type": "stream",
     "text": [
      "<Response [200]>\n"
     ]
    },
    {
     "data": {
      "text/html": [
       "<div>\n",
       "<style scoped>\n",
       "    .dataframe tbody tr th:only-of-type {\n",
       "        vertical-align: middle;\n",
       "    }\n",
       "\n",
       "    .dataframe tbody tr th {\n",
       "        vertical-align: top;\n",
       "    }\n",
       "\n",
       "    .dataframe thead th {\n",
       "        text-align: right;\n",
       "    }\n",
       "</style>\n",
       "<table border=\"1\" class=\"dataframe\">\n",
       "  <thead>\n",
       "    <tr style=\"text-align: right;\">\n",
       "      <th></th>\n",
       "      <th>name</th>\n",
       "      <th>category_code</th>\n",
       "      <th>latitude</th>\n",
       "      <th>longitude</th>\n",
       "    </tr>\n",
       "  </thead>\n",
       "  <tbody>\n",
       "    <tr>\n",
       "      <th>0</th>\n",
       "      <td>Batipi</td>\n",
       "      <td>games_video</td>\n",
       "      <td>43.643683</td>\n",
       "      <td>-79.403865</td>\n",
       "    </tr>\n",
       "  </tbody>\n",
       "</table>\n",
       "</div>"
      ],
      "text/plain": [
       "     name category_code   latitude  longitude\n",
       "0  Batipi   games_video  43.643683 -79.403865"
      ]
     },
     "execution_count": 12,
     "metadata": {},
     "output_type": "execute_result"
    }
   ],
   "source": [
    "GeoQueryMongo('Counter Design Studio Toronto')"
   ]
  },
  {
   "cell_type": "markdown",
   "metadata": {},
   "source": [
    "As can be seen the coordinates of **Batipi** are close to **Counter Design Studio Toronto**, fulfilling this way other condition. "
   ]
  }
 ],
 "metadata": {
  "kernelspec": {
   "display_name": "analytics_env",
   "language": "python",
   "name": "analytics_env"
  },
  "language_info": {
   "codemirror_mode": {
    "name": "ipython",
    "version": 3
   },
   "file_extension": ".py",
   "mimetype": "text/x-python",
   "name": "python",
   "nbconvert_exporter": "python",
   "pygments_lexer": "ipython3",
   "version": "3.8.2"
  }
 },
 "nbformat": 4,
 "nbformat_minor": 4
}
